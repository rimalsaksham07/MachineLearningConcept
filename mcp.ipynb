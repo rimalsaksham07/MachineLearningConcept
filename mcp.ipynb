{
  "nbformat": 4,
  "nbformat_minor": 0,
  "metadata": {
    "colab": {
      "provenance": [],
      "authorship_tag": "ABX9TyN13YQjeV4Wj+mzKvSeK8Gy",
      "include_colab_link": true
    },
    "kernelspec": {
      "name": "python3",
      "display_name": "Python 3"
    },
    "language_info": {
      "name": "python"
    }
  },
  "cells": [
    {
      "cell_type": "markdown",
      "metadata": {
        "id": "view-in-github",
        "colab_type": "text"
      },
      "source": [
        "<a href=\"https://colab.research.google.com/github/rimalsaksham07/Genetic-Algorithm/blob/main/mcp.ipynb\" target=\"_parent\"><img src=\"https://colab.research.google.com/assets/colab-badge.svg\" alt=\"Open In Colab\"/></a>"
      ]
    },
    {
      "cell_type": "code",
      "execution_count": 2,
      "metadata": {
        "colab": {
          "base_uri": "https://localhost:8080/"
        },
        "id": "n9Cjdc7ZyFNZ",
        "outputId": "915039ff-4251-4f96-aa53-0c50fc3cb69f"
      },
      "outputs": [
        {
          "output_type": "stream",
          "name": "stdout",
          "text": [
            "Input vector: [0 1 1 0], Weight vector: [1 1 1 1]\n",
            "Dot product: 2\n",
            "Activation (T = -1): 1\n",
            "Activation (T = 0): 1\n"
          ]
        }
      ],
      "source": [
        "import numpy as np\n",
        "import pandas as pd\n",
        "\n",
        "np.random.seed(seed=0)\n",
        "\n",
        "def linear_threshold_gate(dot: int, T: float) -> int:\n",
        "    '''Returns the binary threshold output'''\n",
        "    return 1 if dot >= T else 0\n",
        "\n",
        "class MCPNeuron(object):\n",
        "    def __init__(self, w=[1, 1], t=1, gates=False):\n",
        "        self.w = np.array(w)\n",
        "        self.t = t\n",
        "        self.gates = gates\n",
        "\n",
        "    def predict(self, message):\n",
        "        x = message\n",
        "        sum_ = np.inner(self.w, x)\n",
        "        if not self.gates:\n",
        "            if sum_ >= self.t:\n",
        "                return \"Activation: 1\", \"Neuron Fires\"\n",
        "            else:\n",
        "                return \"Activation: 0\", \"Neuron doesn't Fire\"\n",
        "        else:\n",
        "            return 1 if sum_ >= self.t else 0\n",
        "\n",
        "def TruthTable(object, input, input_labels, output_labels):\n",
        "    table = pd.DataFrame(input, columns=input_labels)\n",
        "    out_signals = [object.predict(message=row) for row in input]\n",
        "    table[output_labels] = pd.Series(out_signals)\n",
        "    return table\n",
        "\n",
        "def print_gate_info(gate_name, weights, threshold, input_signals, input_labels, output_label):\n",
        "    print(f'{gate_name} Gate:')\n",
        "    print(f'Weights: {weights} \\nThreshold: {threshold}')\n",
        "    gate = MCPNeuron(weights, threshold, gates=True)\n",
        "    table = TruthTable(gate, input_signals, input_labels, output_label)\n",
        "    print(table)\n",
        "    print()\n",
        "\n",
        "# Generate random input and weight vectors\n",
        "input_size = 4\n",
        "X = np.random.choice([0, 1], input_size)\n",
        "W = np.random.choice([-1, 1], input_size)\n",
        "print(f'Input vector: {X}, Weight vector: {W}')\n",
        "\n",
        "# Calculate dot product\n",
        "dot = X @ W\n",
        "print(f'Dot product: {dot}')\n",
        "\n",
        "# Threshold and activation\n",
        "T = -1\n",
        "activation = linear_threshold_gate(dot, T)\n",
        "print(f'Activation (T = -1): {activation}')\n",
        "\n",
        "T = 0\n",
        "activation = linear_threshold_gate(dot, T)\n",
        "print(f'Activation (T = 0): {activation}')\n",
        "\n",
        "# Input signals and labels for truth table\n",
        "in_labels = ['x1', 'x2']\n",
        "in_signals = np.array([\n",
        "    [0, 0], [0, 1], [1, 0], [1, 1]\n",
        "])\n"
      ]
    },
    {
      "cell_type": "code",
      "source": [],
      "metadata": {
        "id": "FU9NsVqxyeZW"
      },
      "execution_count": null,
      "outputs": []
    }
  ]
}