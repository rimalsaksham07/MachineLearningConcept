{
  "nbformat": 4,
  "nbformat_minor": 0,
  "metadata": {
    "colab": {
      "provenance": [],
      "authorship_tag": "ABX9TyNu17w9OnI9jDltLvZNGwmY",
      "include_colab_link": true
    },
    "kernelspec": {
      "name": "python3",
      "display_name": "Python 3"
    },
    "language_info": {
      "name": "python"
    }
  },
  "cells": [
    {
      "cell_type": "markdown",
      "metadata": {
        "id": "view-in-github",
        "colab_type": "text"
      },
      "source": [
        "<a href=\"https://colab.research.google.com/github/rimalsaksham07/Genetic-Algorithm/blob/main/hebbian_learning.ipynb\" target=\"_parent\"><img src=\"https://colab.research.google.com/assets/colab-badge.svg\" alt=\"Open In Colab\"/></a>"
      ]
    },
    {
      "cell_type": "code",
      "execution_count": 1,
      "metadata": {
        "colab": {
          "base_uri": "https://localhost:8080/"
        },
        "id": "4eaiqAL1jTAs",
        "outputId": "83d99b40-de3e-4aa4-9880-a5a65dbbd7f0"
      },
      "outputs": [
        {
          "output_type": "stream",
          "name": "stdout",
          "text": [
            "Training Log:\n",
            " Epoch  Iteration  Weight 1  Weight 2  Bias\n",
            "     1          1       1.0      -1.0   1.0\n",
            "     1          2       0.0      -2.0   0.0\n",
            "     1          3       1.0      -1.0  -1.0\n",
            "     1          4       0.0       0.0   0.0\n",
            "     2          1       1.0      -1.0   1.0\n",
            "     2          2       0.0      -2.0   0.0\n",
            "     2          3       1.0      -1.0  -1.0\n",
            "     2          4       0.0       0.0   0.0\n",
            "     3          1       1.0      -1.0   1.0\n",
            "     3          2       0.0      -2.0   0.0\n",
            "     3          3       1.0      -1.0  -1.0\n",
            "     3          4       0.0       0.0   0.0\n",
            "     4          1       1.0      -1.0   1.0\n",
            "     4          2       0.0      -2.0   0.0\n",
            "     4          3       1.0      -1.0  -1.0\n",
            "     4          4       0.0       0.0   0.0\n",
            "     5          1       1.0      -1.0   1.0\n",
            "     5          2       0.0      -2.0   0.0\n",
            "     5          3       1.0      -1.0  -1.0\n",
            "     5          4       0.0       0.0   0.0\n",
            "\n",
            "Truth Table:\n",
            "   Input 1  Input 2  Output\n",
            "0        1       -1      -1\n",
            "1        1        1      -1\n",
            "2       -1       -1      -1\n",
            "3       -1        1      -1\n"
          ]
        }
      ],
      "source": [
        "import numpy as np\n",
        "import pandas as pd\n",
        "\n",
        "class HebbianNeuron:\n",
        "    def __init__(self, shape, learning_rate=1, epochs=1):\n",
        "        self.shape = shape\n",
        "        self.learning_rate = learning_rate\n",
        "        self.epochs = epochs\n",
        "        self.weights = np.zeros(self.shape)\n",
        "        self.bias = np.zeros(1)\n",
        "\n",
        "    def train(self, inputs, targets):\n",
        "        updates = []\n",
        "        for epoch in range(self.epochs):\n",
        "            for i in range(len(inputs)):\n",
        "                input_pattern = inputs[i]\n",
        "                target = targets[i]\n",
        "                output = np.dot(self.weights, input_pattern) + self.bias\n",
        "                # Update weights and bias\n",
        "                self.weights += self.learning_rate * target * input_pattern\n",
        "                self.bias += self.learning_rate * target\n",
        "                # Log the update details\n",
        "                updates.append([epoch + 1, i + 1, self.weights[0], self.weights[1], self.bias[0]])\n",
        "\n",
        "        df = pd.DataFrame(updates, columns=[\"Epoch\", \"Iteration\", \"Weight 1\", \"Weight 2\", \"Bias\"])\n",
        "        print(df.to_string(index=False))\n",
        "        return self.weights, self.bias\n",
        "\n",
        "    def predict(self, inputs):\n",
        "        outputs = []\n",
        "        for input_pattern in inputs:\n",
        "            output = np.dot(input_pattern, self.weights) + self.bias\n",
        "            outputs.append(1 if output > 0 else -1)\n",
        "        return outputs\n",
        "\n",
        "    def truth_table(self, inputs, input_labels, output_label):\n",
        "        table = pd.DataFrame(inputs, columns=input_labels)\n",
        "        outputs = self.predict(inputs)\n",
        "        table[output_label] = pd.Series(outputs)\n",
        "        return table\n",
        "\n",
        "# Define XOR gate inputs and targets\n",
        "inputs = np.array([[1, -1], [1, 1], [-1, -1], [-1, 1]])\n",
        "targets = np.array([1, -1, -1, 1])\n",
        "\n",
        "# Initialize and train the Hebbian neuron\n",
        "neuron = HebbianNeuron(shape=(2,), learning_rate=1, epochs=5)\n",
        "print(\"Training Log:\")\n",
        "neuron.train(inputs, targets)\n",
        "\n",
        "# Generate and display the truth table\n",
        "input_labels = ['Input 1', 'Input 2']\n",
        "output_label = 'Output'\n",
        "truth_table = neuron.truth_table(inputs, input_labels, output_label)\n",
        "print(\"\\nTruth Table:\")\n",
        "print(truth_table)\n",
        "\n"
      ]
    }
  ]
}