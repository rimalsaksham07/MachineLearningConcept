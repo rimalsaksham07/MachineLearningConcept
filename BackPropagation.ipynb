{
  "nbformat": 4,
  "nbformat_minor": 0,
  "metadata": {
    "colab": {
      "provenance": [],
      "authorship_tag": "ABX9TyPtRzFOcKGvI9T8D/4ru55r",
      "include_colab_link": true
    },
    "kernelspec": {
      "name": "python3",
      "display_name": "Python 3"
    },
    "language_info": {
      "name": "python"
    }
  },
  "cells": [
    {
      "cell_type": "markdown",
      "metadata": {
        "id": "view-in-github",
        "colab_type": "text"
      },
      "source": [
        "<a href=\"https://colab.research.google.com/github/rimalsaksham07/Genetic-Algorithm/blob/main/BackPropagation.ipynb\" target=\"_parent\"><img src=\"https://colab.research.google.com/assets/colab-badge.svg\" alt=\"Open In Colab\"/></a>"
      ]
    },
    {
      "cell_type": "code",
      "execution_count": 3,
      "metadata": {
        "colab": {
          "base_uri": "https://localhost:8080/"
        },
        "id": "BUZa6pfY0CwW",
        "outputId": "01381074-5935-45d0-ad4b-68c298c5ae76"
      },
      "outputs": [
        {
          "output_type": "stream",
          "name": "stdout",
          "text": [
            "Predictions after training:\n",
            "[[0.08100661]\n",
            " [0.89756022]\n",
            " [0.89758196]\n",
            " [0.1398644 ]]\n",
            "\n",
            "Rounded Predictions:\n",
            "[[0.]\n",
            " [1.]\n",
            " [1.]\n",
            " [0.]]\n"
          ]
        }
      ],
      "source": [
        "import numpy as np\n",
        "\n",
        "def sigmoid(x):\n",
        "    \"\"\"Sigmoid activation function.\"\"\"\n",
        "    return 1 / (1 + np.exp(-x))\n",
        "\n",
        "def sigmoid_derivative(x):\n",
        "    \"\"\"Derivative of the sigmoid function.\"\"\"\n",
        "    return x * (1 - x)\n",
        "\n",
        "class NeuralNetwork:\n",
        "    def __init__(self, input_size, hidden_size, output_size):\n",
        "        # Initialize sizes of layers\n",
        "        self.input_size = input_size\n",
        "        self.hidden_size = hidden_size\n",
        "        self.output_size = output_size\n",
        "\n",
        "        # Initialize weights and biases\n",
        "        self.weights1 = np.random.uniform(-1, 1, (self.input_size, self.hidden_size))\n",
        "        self.weights2 = np.random.uniform(-1, 1, (self.hidden_size, self.output_size))\n",
        "        self.bias1 = np.zeros((1, self.hidden_size))\n",
        "        self.bias2 = np.zeros((1, self.output_size))\n",
        "\n",
        "    def forward(self, X):\n",
        "        \"\"\"Perform a forward pass through the network.\"\"\"\n",
        "        self.hidden_layer = sigmoid(np.dot(X, self.weights1) + self.bias1)\n",
        "        self.output_layer = sigmoid(np.dot(self.hidden_layer, self.weights2) + self.bias2)\n",
        "\n",
        "    def backward(self, X, y, learning_rate):\n",
        "        \"\"\"Perform backpropagation and update weights and biases.\"\"\"\n",
        "        output_error = y - self.output_layer\n",
        "        output_delta = output_error * sigmoid_derivative(self.output_layer)\n",
        "\n",
        "        hidden_error = output_delta.dot(self.weights2.T)\n",
        "        hidden_delta = hidden_error * sigmoid_derivative(self.hidden_layer)\n",
        "\n",
        "        # Update weights and biases\n",
        "        self.weights2 += self.hidden_layer.T.dot(output_delta) * learning_rate\n",
        "        self.weights1 += X.T.dot(hidden_delta) * learning_rate\n",
        "        self.bias2 += np.sum(output_delta, axis=0, keepdims=True) * learning_rate\n",
        "        self.bias1 += np.sum(hidden_delta, axis=0, keepdims=True) * learning_rate\n",
        "\n",
        "    def train(self, X, y, epochs, learning_rate):\n",
        "        \"\"\"Train the neural network for a number of epochs.\"\"\"\n",
        "        for epoch in range(epochs):\n",
        "            self.forward(X)\n",
        "            self.backward(X, y, learning_rate)\n",
        "\n",
        "    def predict(self, X):\n",
        "        \"\"\"Make predictions using the trained neural network.\"\"\"\n",
        "        self.forward(X)\n",
        "        return self.output_layer\n",
        "\n",
        "# Sample dataset (XOR problem)\n",
        "X = np.array([[0, 0],\n",
        "              [0, 1],\n",
        "              [1, 0],\n",
        "              [1, 1]])\n",
        "\n",
        "y = np.array([[0], [1], [1], [0]])\n",
        "\n",
        "# Define neural network architecture\n",
        "input_size = 2\n",
        "hidden_size = 2\n",
        "output_size = 1\n",
        "\n",
        "# Create neural network\n",
        "nn = NeuralNetwork(input_size, hidden_size, output_size)\n",
        "\n",
        "# Train the neural network\n",
        "epochs = 10000\n",
        "learning_rate = 0.1\n",
        "nn.train(X, y, epochs, learning_rate)\n",
        "\n",
        "# Test the neural network\n",
        "print(\"Predictions after training:\")\n",
        "predictions = nn.predict(X)\n",
        "print(predictions)\n",
        "\n",
        "# To display rounded predictions for easier interpretation\n",
        "print(\"\\nRounded Predictions:\")\n",
        "print(np.round(predictions))\n"
      ]
    },
    {
      "cell_type": "code",
      "source": [],
      "metadata": {
        "id": "YmFHugxV0D2h"
      },
      "execution_count": null,
      "outputs": []
    }
  ]
}